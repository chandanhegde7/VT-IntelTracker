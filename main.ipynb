{
  "nbformat": 4,
  "nbformat_minor": 0,
  "metadata": {
    "colab": {
      "provenance": [],
      "authorship_tag": "ABX9TyPOETLa/+mpVhwEjCDdRKUw",
      "include_colab_link": true
    },
    "kernelspec": {
      "name": "python3",
      "display_name": "Python 3"
    },
    "language_info": {
      "name": "python"
    }
  },
  "cells": [
    {
      "cell_type": "markdown",
      "metadata": {
        "id": "view-in-github",
        "colab_type": "text"
      },
      "source": [
        "<a href=\"https://colab.research.google.com/github/chandanhegde7/VT-IntelTracker/blob/main/main.ipynb\" target=\"_parent\"><img src=\"https://colab.research.google.com/assets/colab-badge.svg\" alt=\"Open In Colab\"/></a>"
      ]
    },
    {
      "cell_type": "code",
      "execution_count": 2,
      "metadata": {
        "id": "aT9Yp484tysx",
        "colab": {
          "base_uri": "https://localhost:8080/"
        },
        "outputId": "9000b2ba-e491-4bf8-9ad7-275a8df53f1b"
      },
      "outputs": [
        {
          "output_type": "stream",
          "name": "stdout",
          "text": [
            "Requirement already satisfied: requests in /usr/local/lib/python3.11/dist-packages (2.32.3)\n",
            "Requirement already satisfied: pandas in /usr/local/lib/python3.11/dist-packages (2.2.2)\n",
            "Requirement already satisfied: charset-normalizer<4,>=2 in /usr/local/lib/python3.11/dist-packages (from requests) (3.4.1)\n",
            "Requirement already satisfied: idna<4,>=2.5 in /usr/local/lib/python3.11/dist-packages (from requests) (3.10)\n",
            "Requirement already satisfied: urllib3<3,>=1.21.1 in /usr/local/lib/python3.11/dist-packages (from requests) (2.3.0)\n",
            "Requirement already satisfied: certifi>=2017.4.17 in /usr/local/lib/python3.11/dist-packages (from requests) (2025.1.31)\n",
            "Requirement already satisfied: numpy>=1.23.2 in /usr/local/lib/python3.11/dist-packages (from pandas) (1.26.4)\n",
            "Requirement already satisfied: python-dateutil>=2.8.2 in /usr/local/lib/python3.11/dist-packages (from pandas) (2.8.2)\n",
            "Requirement already satisfied: pytz>=2020.1 in /usr/local/lib/python3.11/dist-packages (from pandas) (2025.1)\n",
            "Requirement already satisfied: tzdata>=2022.7 in /usr/local/lib/python3.11/dist-packages (from pandas) (2025.1)\n",
            "Requirement already satisfied: six>=1.5 in /usr/local/lib/python3.11/dist-packages (from python-dateutil>=2.8.2->pandas) (1.17.0)\n"
          ]
        }
      ],
      "source": [
        "!pip install requests pandas"
      ]
    },
    {
      "cell_type": "code",
      "source": [
        "import requests\n",
        "\n",
        "API_KEY = \"39078895019bb9e70c99c6f53e0a878591d66d67ccb84bde944cfeb1ad624eec\"  # Manually enter your API key\n",
        "BASE_URL = \"https://www.virustotal.com/api/v3/\"\n",
        "\n",
        "def test_api():\n",
        "    headers = {\"x-apikey\": API_KEY}\n",
        "    response = requests.get(BASE_URL + \"ip_addresses/8.8.8.8\", headers=headers)\n",
        "\n",
        "    if response.status_code == 200:\n",
        "        print(\" API is working!\")\n",
        "        print(response.json())  # Print sample data\n",
        "    else:\n",
        "        print(f\" Error: {response.status_code}\")\n",
        "\n",
        "test_api()\n"
      ],
      "metadata": {
        "id": "h9hSeh5P2Qt_",
        "outputId": "c0f73e25-5106-4fdb-f79e-04c7f994ef46",
        "colab": {
          "base_uri": "https://localhost:8080/"
        }
      },
      "execution_count": 5,
      "outputs": [
        {
          "output_type": "stream",
          "name": "stdout",
          "text": [
            " API is working!\n",
            "{'data': {'id': '8.8.8.8', 'type': 'ip_address', 'links': {'self': 'https://www.virustotal.com/api/v3/ip_addresses/8.8.8.8'}, 'attributes': {'country': 'US', 'crowdsourced_context': [{'details': 'AsyncRAT botnet C2 server (confidence level: 100%)', 'severity': 'medium', 'timestamp': 1694383565, 'title': 'ThreatFox IOCs for 2023-09-10', 'source': 'ArcSight Threat Intelligence'}], 'last_analysis_stats': {'malicious': 0, 'suspicious': 0, 'undetected': 31, 'harmless': 63, 'timeout': 0}, 'reputation': 547, 'whois_date': 1739177987, 'last_https_certificate_date': 1740803731, 'as_owner': 'GOOGLE', 'last_analysis_results': {'Acronis': {'method': 'blacklist', 'engine_name': 'Acronis', 'category': 'harmless', 'result': 'clean'}, '0xSI_f33d': {'method': 'blacklist', 'engine_name': '0xSI_f33d', 'category': 'undetected', 'result': 'unrated'}, 'Abusix': {'method': 'blacklist', 'engine_name': 'Abusix', 'category': 'harmless', 'result': 'clean'}, 'ADMINUSLabs': {'method': 'blacklist', 'engine_name': 'ADMINUSLabs', 'category': 'harmless', 'result': 'clean'}, 'Axur': {'method': 'blacklist', 'engine_name': 'Axur', 'category': 'undetected', 'result': 'unrated'}, 'Criminal IP': {'method': 'blacklist', 'engine_name': 'Criminal IP', 'category': 'harmless', 'result': 'clean'}, 'AILabs (MONITORAPP)': {'method': 'blacklist', 'engine_name': 'AILabs (MONITORAPP)', 'category': 'harmless', 'result': 'clean'}, 'AlienVault': {'method': 'blacklist', 'engine_name': 'AlienVault', 'category': 'harmless', 'result': 'clean'}, 'alphaMountain.ai': {'method': 'blacklist', 'engine_name': 'alphaMountain.ai', 'category': 'harmless', 'result': 'clean'}, 'AlphaSOC': {'method': 'blacklist', 'engine_name': 'AlphaSOC', 'category': 'undetected', 'result': 'unrated'}, 'Antiy-AVL': {'method': 'blacklist', 'engine_name': 'Antiy-AVL', 'category': 'harmless', 'result': 'clean'}, 'ArcSight Threat Intelligence': {'method': 'blacklist', 'engine_name': 'ArcSight Threat Intelligence', 'category': 'undetected', 'result': 'unrated'}, 'AutoShun': {'method': 'blacklist', 'engine_name': 'AutoShun', 'category': 'undetected', 'result': 'unrated'}, 'benkow.cc': {'method': 'blacklist', 'engine_name': 'benkow.cc', 'category': 'harmless', 'result': 'clean'}, 'Bfore.Ai PreCrime': {'method': 'blacklist', 'engine_name': 'Bfore.Ai PreCrime', 'category': 'undetected', 'result': 'unrated'}, 'BitDefender': {'method': 'blacklist', 'engine_name': 'BitDefender', 'category': 'harmless', 'result': 'clean'}, 'Bkav': {'method': 'blacklist', 'engine_name': 'Bkav', 'category': 'undetected', 'result': 'unrated'}, 'Blueliv': {'method': 'blacklist', 'engine_name': 'Blueliv', 'category': 'harmless', 'result': 'clean'}, 'Certego': {'method': 'blacklist', 'engine_name': 'Certego', 'category': 'harmless', 'result': 'clean'}, 'Chong Lua Dao': {'method': 'blacklist', 'engine_name': 'Chong Lua Dao', 'category': 'harmless', 'result': 'clean'}, 'CINS Army': {'method': 'blacklist', 'engine_name': 'CINS Army', 'category': 'harmless', 'result': 'clean'}, 'Cluster25': {'method': 'blacklist', 'engine_name': 'Cluster25', 'category': 'undetected', 'result': 'unrated'}, 'CRDF': {'method': 'blacklist', 'engine_name': 'CRDF', 'category': 'harmless', 'result': 'clean'}, 'CSIS Security Group': {'method': 'blacklist', 'engine_name': 'CSIS Security Group', 'category': 'undetected', 'result': 'unrated'}, 'Snort IP sample list': {'method': 'blacklist', 'engine_name': 'Snort IP sample list', 'category': 'harmless', 'result': 'clean'}, 'CMC Threat Intelligence': {'method': 'blacklist', 'engine_name': 'CMC Threat Intelligence', 'category': 'harmless', 'result': 'clean'}, 'Cyan': {'method': 'blacklist', 'engine_name': 'Cyan', 'category': 'undetected', 'result': 'unrated'}, 'Cyble': {'method': 'blacklist', 'engine_name': 'Cyble', 'category': 'harmless', 'result': 'clean'}, 'CyRadar': {'method': 'blacklist', 'engine_name': 'CyRadar', 'category': 'harmless', 'result': 'clean'}, 'DNS8': {'method': 'blacklist', 'engine_name': 'DNS8', 'category': 'harmless', 'result': 'clean'}, 'Dr.Web': {'method': 'blacklist', 'engine_name': 'Dr.Web', 'category': 'harmless', 'result': 'clean'}, 'Ermes': {'method': 'blacklist', 'engine_name': 'Ermes', 'category': 'undetected', 'result': 'unrated'}, 'ESET': {'method': 'blacklist', 'engine_name': 'ESET', 'category': 'harmless', 'result': 'clean'}, 'ESTsecurity': {'method': 'blacklist', 'engine_name': 'ESTsecurity', 'category': 'harmless', 'result': 'clean'}, 'EmergingThreats': {'method': 'blacklist', 'engine_name': 'EmergingThreats', 'category': 'harmless', 'result': 'clean'}, 'Emsisoft': {'method': 'blacklist', 'engine_name': 'Emsisoft', 'category': 'harmless', 'result': 'clean'}, 'Forcepoint ThreatSeeker': {'method': 'blacklist', 'engine_name': 'Forcepoint ThreatSeeker', 'category': 'harmless', 'result': 'clean'}, 'Fortinet': {'method': 'blacklist', 'engine_name': 'Fortinet', 'category': 'harmless', 'result': 'clean'}, 'G-Data': {'method': 'blacklist', 'engine_name': 'G-Data', 'category': 'harmless', 'result': 'clean'}, 'GCP Abuse Intelligence': {'method': 'blacklist', 'engine_name': 'GCP Abuse Intelligence', 'category': 'undetected', 'result': 'unrated'}, 'Google Safebrowsing': {'method': 'blacklist', 'engine_name': 'Google Safebrowsing', 'category': 'harmless', 'result': 'clean'}, 'GreenSnow': {'method': 'blacklist', 'engine_name': 'GreenSnow', 'category': 'harmless', 'result': 'clean'}, 'Gridinsoft': {'method': 'blacklist', 'engine_name': 'Gridinsoft', 'category': 'undetected', 'result': 'unrated'}, 'Heimdal Security': {'method': 'blacklist', 'engine_name': 'Heimdal Security', 'category': 'harmless', 'result': 'clean'}, 'Hunt.io Intelligence': {'method': 'blacklist', 'engine_name': 'Hunt.io Intelligence', 'category': 'undetected', 'result': 'unrated'}, 'IPsum': {'method': 'blacklist', 'engine_name': 'IPsum', 'category': 'harmless', 'result': 'clean'}, 'Juniper Networks': {'method': 'blacklist', 'engine_name': 'Juniper Networks', 'category': 'harmless', 'result': 'clean'}, 'Kaspersky': {'method': 'blacklist', 'engine_name': 'Kaspersky', 'category': 'undetected', 'result': 'unrated'}, 'Lionic': {'method': 'blacklist', 'engine_name': 'Lionic', 'category': 'harmless', 'result': 'clean'}, 'Lumu': {'method': 'blacklist', 'engine_name': 'Lumu', 'category': 'undetected', 'result': 'unrated'}, 'MalwarePatrol': {'method': 'blacklist', 'engine_name': 'MalwarePatrol', 'category': 'harmless', 'result': 'clean'}, 'MalwareURL': {'method': 'blacklist', 'engine_name': 'MalwareURL', 'category': 'undetected', 'result': 'unrated'}, 'Malwared': {'method': 'blacklist', 'engine_name': 'Malwared', 'category': 'harmless', 'result': 'clean'}, 'Netcraft': {'method': 'blacklist', 'engine_name': 'Netcraft', 'category': 'undetected', 'result': 'unrated'}, 'OpenPhish': {'method': 'blacklist', 'engine_name': 'OpenPhish', 'category': 'harmless', 'result': 'clean'}, 'Phishing Database': {'method': 'blacklist', 'engine_name': 'Phishing Database', 'category': 'harmless', 'result': 'clean'}, 'PhishFort': {'method': 'blacklist', 'engine_name': 'PhishFort', 'category': 'undetected', 'result': 'unrated'}, 'PhishLabs': {'method': 'blacklist', 'engine_name': 'PhishLabs', 'category': 'undetected', 'result': 'unrated'}, 'Phishtank': {'method': 'blacklist', 'engine_name': 'Phishtank', 'category': 'harmless', 'result': 'clean'}, 'PREBYTES': {'method': 'blacklist', 'engine_name': 'PREBYTES', 'category': 'harmless', 'result': 'clean'}, 'PrecisionSec': {'method': 'blacklist', 'engine_name': 'PrecisionSec', 'category': 'undetected', 'result': 'unrated'}, 'Quick Heal': {'method': 'blacklist', 'engine_name': 'Quick Heal', 'category': 'harmless', 'result': 'clean'}, 'Quttera': {'method': 'blacklist', 'engine_name': 'Quttera', 'category': 'harmless', 'result': 'clean'}, 'SafeToOpen': {'method': 'blacklist', 'engine_name': 'SafeToOpen', 'category': 'undetected', 'result': 'unrated'}, 'Sansec eComscan': {'method': 'blacklist', 'engine_name': 'Sansec eComscan', 'category': 'undetected', 'result': 'unrated'}, 'Scantitan': {'method': 'blacklist', 'engine_name': 'Scantitan', 'category': 'harmless', 'result': 'clean'}, 'SCUMWARE.org': {'method': 'blacklist', 'engine_name': 'SCUMWARE.org', 'category': 'harmless', 'result': 'clean'}, 'Seclookup': {'method': 'blacklist', 'engine_name': 'Seclookup', 'category': 'harmless', 'result': 'clean'}, 'SecureBrain': {'method': 'blacklist', 'engine_name': 'SecureBrain', 'category': 'undetected', 'result': 'unrated'}, 'Segasec': {'method': 'blacklist', 'engine_name': 'Segasec', 'category': 'undetected', 'result': 'unrated'}, 'SOCRadar': {'method': 'blacklist', 'engine_name': 'SOCRadar', 'category': 'harmless', 'result': 'clean'}, 'Sophos': {'method': 'blacklist', 'engine_name': 'Sophos', 'category': 'harmless', 'result': 'clean'}, 'Spam404': {'method': 'blacklist', 'engine_name': 'Spam404', 'category': 'harmless', 'result': 'clean'}, 'StopForumSpam': {'method': 'blacklist', 'engine_name': 'StopForumSpam', 'category': 'harmless', 'result': 'clean'}, 'Sucuri SiteCheck': {'method': 'blacklist', 'engine_name': 'Sucuri SiteCheck', 'category': 'harmless', 'result': 'clean'}, 'ThreatHive': {'method': 'blacklist', 'engine_name': 'ThreatHive', 'category': 'harmless', 'result': 'clean'}, 'Threatsourcing': {'method': 'blacklist', 'engine_name': 'Threatsourcing', 'category': 'harmless', 'result': 'clean'}, 'Trustwave': {'method': 'blacklist', 'engine_name': 'Trustwave', 'category': 'harmless', 'result': 'clean'}, 'Underworld': {'method': 'blacklist', 'engine_name': 'Underworld', 'category': 'undetected', 'result': 'unrated'}, 'URLhaus': {'method': 'blacklist', 'engine_name': 'URLhaus', 'category': 'harmless', 'result': 'clean'}, 'URLQuery': {'method': 'blacklist', 'engine_name': 'URLQuery', 'category': 'undetected', 'result': 'unrated'}, 'Viettel Threat Intelligence': {'method': 'blacklist', 'engine_name': 'Viettel Threat Intelligence', 'category': 'harmless', 'result': 'clean'}, 'VIPRE': {'method': 'blacklist', 'engine_name': 'VIPRE', 'category': 'undetected', 'result': 'unrated'}, 'VX Vault': {'method': 'blacklist', 'engine_name': 'VX Vault', 'category': 'harmless', 'result': 'clean'}, 'ViriBack': {'method': 'blacklist', 'engine_name': 'ViriBack', 'category': 'harmless', 'result': 'clean'}, 'Webroot': {'method': 'blacklist', 'engine_name': 'Webroot', 'category': 'harmless', 'result': 'clean'}, 'Yandex Safebrowsing': {'method': 'blacklist', 'engine_name': 'Yandex Safebrowsing', 'category': 'harmless', 'result': 'clean'}, 'ZeroCERT': {'method': 'blacklist', 'engine_name': 'ZeroCERT', 'category': 'harmless', 'result': 'clean'}, 'desenmascara.me': {'method': 'blacklist', 'engine_name': 'desenmascara.me', 'category': 'harmless', 'result': 'clean'}, 'malwares.com URL checker': {'method': 'blacklist', 'engine_name': 'malwares.com URL checker', 'category': 'harmless', 'result': 'clean'}, 'securolytics': {'method': 'blacklist', 'engine_name': 'securolytics', 'category': 'harmless', 'result': 'clean'}, 'Xcitium Verdict Cloud': {'method': 'blacklist', 'engine_name': 'Xcitium Verdict Cloud', 'category': 'undetected', 'result': 'unrated'}, 'zvelo': {'method': 'blacklist', 'engine_name': 'zvelo', 'category': 'undetected', 'result': 'unrated'}, 'ZeroFox': {'method': 'blacklist', 'engine_name': 'ZeroFox', 'category': 'undetected', 'result': 'unrated'}}, 'jarm': '29d3fd00029d29d00042d43d00041d598ac0c1012db967bb1ad0ff2491b3ae', 'last_analysis_date': 1740803430, 'whois': 'NetRange: 8.8.8.0 - 8.8.8.255\\nCIDR: 8.8.8.0/24\\nNetName: GOGL\\nNetHandle: NET-8-8-8-0-2\\nParent: NET8 (NET-8-0-0-0-0)\\nNetType: Direct Allocation\\nOriginAS: \\nOrganization: Google LLC (GOGL)\\nRegDate: 2023-12-28\\nUpdated: 2023-12-28\\nRef: https://rdap.arin.net/registry/ip/8.8.8.0\\nOrgName: Google LLC\\nOrgId: GOGL\\nAddress: 1600 Amphitheatre Parkway\\nCity: Mountain View\\nStateProv: CA\\nPostalCode: 94043\\nCountry: US\\nRegDate: 2000-03-30\\nUpdated: 2019-10-31\\nComment: Please note that the recommended way to file abuse complaints are located in the following links. \\nComment: \\nComment: To report abuse and illegal activity: https://www.google.com/contact/\\nComment: \\nComment: For legal requests: http://support.google.com/legal \\nComment: \\nComment: Regards, \\nComment: The Google Team\\nRef: https://rdap.arin.net/registry/entity/GOGL\\nOrgTechHandle: ZG39-ARIN\\nOrgTechName: Google LLC\\nOrgTechPhone: +1-650-253-0000 \\nOrgTechEmail: arin-contact@google.com\\nOrgTechRef: https://rdap.arin.net/registry/entity/ZG39-ARIN\\nOrgAbuseHandle: ABUSE5250-ARIN\\nOrgAbuseName: Abuse\\nOrgAbusePhone: +1-650-253-0000 \\nOrgAbuseEmail: network-abuse@google.com\\nOrgAbuseRef: https://rdap.arin.net/registry/entity/ABUSE5250-ARIN\\n', 'asn': 15169, 'last_modification_date': 1740818294, 'continent': 'NA', 'last_https_certificate': {'cert_signature': {'signature_algorithm': 'sha256RSA', 'signature': '4aca125c4d4386f87f919f0e543180b3cff7fa9fa53f5420a770fa4e3aa336b60f0fa2636b83246ec7fc3d381fe5746c31884f6fa5a601c25b0c163b93fdb774ecac26cbde004f924831077d830402fc5ee73181870fb452c4ba6c1d545ee3f7ce01ada30bd74cc469eee7fd8f89e22472f92705d5a8b1303b7be5d6cfdf0ab421dda0d5ab5d611d51c9db304e5b3eb5d105596f7a90b0ea0b65631459f231627cfdec24400248917156b724d062eb9dd09e0bb10e240bf9e0e3913663eea04c677b23f874d85f8ffcfe6f320cda18c3c5b83d6c0d4213d92ae595bb76ded16e97e355de746ddda9c2df433672139bd249079142e933fbc01dfb1649db6bf4ed'}, 'extensions': {'key_usage': ['digitalSignature', 'keyEncipherment'], 'extended_key_usage': ['serverAuth'], 'CA': False, 'subject_key_identifier': 'b0f2758a15849a7e3b4a0db0de455a3b50a69f53', 'authority_key_identifier': {'keyid': 'de1b1eed7915d43e3724c321bbec34396d42b230'}, 'ca_information_access': {'OCSP': 'http://o.pki.goog/wr2', 'CA Issuers': 'http://i.pki.goog/wr2.crt'}, 'subject_alternative_name': ['dns.google', 'dns.google.com', '*.dns.google.com', '8888.google', 'dns64.dns.google', '8.8.8.8', '8.8.4.4', '2001:4860:4860::8888', '2001:4860:4860::8844', '2001:4860:4860::6464', '2001:4860:4860::64'], 'certificate_policies': ['2.23.140.1.2.1'], 'crl_distribution_points': ['http://c.pki.goog/wr2/75r4ZyA3vA0.crl'], '1.3.6.1.4.1.11129.2.4.2': '0481f300f10076004e75a3275c9a10c3385b6cd4df3f52eb1df0e08e1b8d69c0'}, 'validity': {'not_after': '2025-05-21 15:34:48', 'not_before': '2025-02-26 15:34:49'}, 'size': 1463, 'version': 'V3', 'public_key': {'algorithm': 'RSA', 'rsa': {'modulus': 'b861e7bcc1c7cd5ae82647911c9b2b6e4a0d00184df3d3a49891accbb57e7135edefa5d773c1c36247de2dbb4a1f625ef3ab62692756a86b4c894e8ac7ff7f4b6ccb4041bc1c317c0849e59a8ff0cfbc60cfd9a71eaf1bb03aaf19a6998e58dae44a8153ffdf55a9224004864bfc23b12bfd9e2994ebde817c5b73013ede2d5f28d0905222116a02fbd1bbabc052bf2b5936734089653e3355a36bff53732f6417ae6f4193af2a5e6cec8dacbc99cedb15e25dd35a98617729e05573c4c08b72d83254af8bcdffb7f7bf83e4cf130781e856a0259699741e112122b5351da2b7bf0bec8f4dff2ed85ed0629c7be749940d24785543ed68a055c6cef7aecd2d31', 'exponent': '10001', 'key_size': 2048}}, 'thumbprint_sha256': '25f09a6bf7084a2febe3222abbdccc5a87992f51e207fce037537009350d90ac', 'thumbprint': 'a52500082b4ed495037035725241df817c33fa32', 'serial_number': 'dd474719951f73c30a696aabc3437344', 'issuer': {'C': 'US', 'O': 'Google Trust Services', 'CN': 'WR2'}, 'subject': {'CN': 'dns.google'}}, 'regional_internet_registry': 'ARIN', 'network': '8.8.8.0/24', 'total_votes': {'harmless': 222, 'malicious': 39}, 'tags': []}}}\n"
          ]
        }
      ]
    }
  ]
}